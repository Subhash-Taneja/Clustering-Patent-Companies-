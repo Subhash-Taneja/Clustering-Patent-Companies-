{
 "cells": [
  {
   "cell_type": "code",
   "execution_count": 1,
   "metadata": {
    "collapsed": true
   },
   "outputs": [],
   "source": [
    "import pandas as pd\n",
    "import matplotlib.pyplot as plt\n",
    "import numpy as np"
   ]
  },
  {
   "cell_type": "code",
   "execution_count": 2,
   "metadata": {
    "collapsed": false
   },
   "outputs": [
    {
     "name": "stdout",
     "output_type": "stream",
     "text": [
      "(1307, 7)\n"
     ]
    }
   ],
   "source": [
    "owners =  pd.read_csv('owners revised.csv')\n",
    "print owners.shape"
   ]
  },
  {
   "cell_type": "code",
   "execution_count": 3,
   "metadata": {
    "collapsed": false
   },
   "outputs": [
    {
     "data": {
      "text/html": [
       "<div>\n",
       "<table border=\"1\" class=\"dataframe\">\n",
       "  <thead>\n",
       "    <tr style=\"text-align: right;\">\n",
       "      <th></th>\n",
       "      <th>owner</th>\n",
       "      <th>assets_ty</th>\n",
       "      <th>r_d_ty</th>\n",
       "      <th>patents_count</th>\n",
       "      <th>icls_count</th>\n",
       "      <th>industries_count</th>\n",
       "      <th>rnd/patent</th>\n",
       "    </tr>\n",
       "  </thead>\n",
       "  <tbody>\n",
       "    <tr>\n",
       "      <th>0</th>\n",
       "      <td>13332</td>\n",
       "      <td>18.762</td>\n",
       "      <td>2.503</td>\n",
       "      <td>1</td>\n",
       "      <td>1</td>\n",
       "      <td>1</td>\n",
       "      <td>2.50</td>\n",
       "    </tr>\n",
       "    <tr>\n",
       "      <th>1</th>\n",
       "      <td>13200</td>\n",
       "      <td>865.540</td>\n",
       "      <td>29.965</td>\n",
       "      <td>5</td>\n",
       "      <td>2</td>\n",
       "      <td>1</td>\n",
       "      <td>5.99</td>\n",
       "    </tr>\n",
       "    <tr>\n",
       "      <th>2</th>\n",
       "      <td>23810</td>\n",
       "      <td>248.055</td>\n",
       "      <td>18.696</td>\n",
       "      <td>8</td>\n",
       "      <td>5</td>\n",
       "      <td>2</td>\n",
       "      <td>2.34</td>\n",
       "    </tr>\n",
       "    <tr>\n",
       "      <th>3</th>\n",
       "      <td>62382</td>\n",
       "      <td>54.736</td>\n",
       "      <td>26.312</td>\n",
       "      <td>5</td>\n",
       "      <td>2</td>\n",
       "      <td>2</td>\n",
       "      <td>5.26</td>\n",
       "    </tr>\n",
       "    <tr>\n",
       "      <th>4</th>\n",
       "      <td>125595</td>\n",
       "      <td>278.941</td>\n",
       "      <td>12.971</td>\n",
       "      <td>5</td>\n",
       "      <td>1</td>\n",
       "      <td>1</td>\n",
       "      <td>2.59</td>\n",
       "    </tr>\n",
       "  </tbody>\n",
       "</table>\n",
       "</div>"
      ],
      "text/plain": [
       "    owner  assets_ty  r_d_ty  patents_count  icls_count  industries_count  \\\n",
       "0   13332     18.762   2.503              1           1                 1   \n",
       "1   13200    865.540  29.965              5           2                 1   \n",
       "2   23810    248.055  18.696              8           5                 2   \n",
       "3   62382     54.736  26.312              5           2                 2   \n",
       "4  125595    278.941  12.971              5           1                 1   \n",
       "\n",
       "   rnd/patent  \n",
       "0        2.50  \n",
       "1        5.99  \n",
       "2        2.34  \n",
       "3        5.26  \n",
       "4        2.59  "
      ]
     },
     "execution_count": 3,
     "metadata": {},
     "output_type": "execute_result"
    }
   ],
   "source": [
    "owners.head()"
   ]
  },
  {
   "cell_type": "code",
   "execution_count": 4,
   "metadata": {
    "collapsed": false
   },
   "outputs": [
    {
     "name": "stdout",
     "output_type": "stream",
     "text": [
      "type of owner column:int64\n",
      "type of assets_ty column:float64\n",
      "type of r_d_ty column:float64\n",
      "type of patents_count column:int64\n",
      "type of icls_count column:int64\n",
      "type of industries_count column:int64\n",
      "type of rnd/patent column:float64\n"
     ]
    }
   ],
   "source": [
    "print (\"type of owner column:{}\".format(owners['owner'].dtype))\n",
    "print (\"type of assets_ty column:{}\".format(owners['assets_ty'].dtype))\n",
    "print (\"type of r_d_ty column:{}\".format(owners['r_d_ty'].dtype))\n",
    "print (\"type of patents_count column:{}\".format(owners['patents_count'].dtype))\n",
    "print (\"type of icls_count column:{}\".format(owners['icls_count'].dtype))\n",
    "print (\"type of industries_count column:{}\".format(owners['industries_count'].dtype))\n",
    "print (\"type of rnd/patent column:{}\".format(owners['rnd/patent'].dtype))"
   ]
  },
  {
   "cell_type": "code",
   "execution_count": 5,
   "metadata": {
    "collapsed": false
   },
   "outputs": [
    {
     "name": "stdout",
     "output_type": "stream",
     "text": [
      "Existing type of owner column:int64\n",
      "Corrected type of owner column:object\n"
     ]
    }
   ],
   "source": [
    "print (\"Existing type of owner column:{}\".format(owners['owner'].dtype))\n",
    "owners['owner'] = owners['owner'].astype(object)\n",
    "print (\"Corrected type of owner column:{}\".format(owners['owner'].dtype))"
   ]
  },
  {
   "cell_type": "code",
   "execution_count": 6,
   "metadata": {
    "collapsed": false,
    "scrolled": true
   },
   "outputs": [
    {
     "data": {
      "text/html": [
       "<div>\n",
       "<table border=\"1\" class=\"dataframe\">\n",
       "  <thead>\n",
       "    <tr style=\"text-align: right;\">\n",
       "      <th></th>\n",
       "      <th>assets_ty</th>\n",
       "      <th>r_d_ty</th>\n",
       "      <th>patents_count</th>\n",
       "      <th>icls_count</th>\n",
       "      <th>industries_count</th>\n",
       "      <th>rnd/patent</th>\n",
       "    </tr>\n",
       "  </thead>\n",
       "  <tbody>\n",
       "    <tr>\n",
       "      <th>count</th>\n",
       "      <td>1307.000000</td>\n",
       "      <td>1307.000000</td>\n",
       "      <td>1307.000000</td>\n",
       "      <td>1307.000000</td>\n",
       "      <td>1307.000000</td>\n",
       "      <td>1307.000000</td>\n",
       "    </tr>\n",
       "    <tr>\n",
       "      <th>mean</th>\n",
       "      <td>5416.045796</td>\n",
       "      <td>199.160406</td>\n",
       "      <td>31.413925</td>\n",
       "      <td>6.923489</td>\n",
       "      <td>2.155318</td>\n",
       "      <td>23.809855</td>\n",
       "    </tr>\n",
       "    <tr>\n",
       "      <th>std</th>\n",
       "      <td>28013.122523</td>\n",
       "      <td>769.707103</td>\n",
       "      <td>144.992583</td>\n",
       "      <td>14.844842</td>\n",
       "      <td>1.538548</td>\n",
       "      <td>195.611002</td>\n",
       "    </tr>\n",
       "    <tr>\n",
       "      <th>min</th>\n",
       "      <td>0.001000</td>\n",
       "      <td>0.000000</td>\n",
       "      <td>1.000000</td>\n",
       "      <td>1.000000</td>\n",
       "      <td>1.000000</td>\n",
       "      <td>0.000000</td>\n",
       "    </tr>\n",
       "    <tr>\n",
       "      <th>25%</th>\n",
       "      <td>63.418000</td>\n",
       "      <td>5.840500</td>\n",
       "      <td>1.000000</td>\n",
       "      <td>1.000000</td>\n",
       "      <td>1.000000</td>\n",
       "      <td>1.580000</td>\n",
       "    </tr>\n",
       "    <tr>\n",
       "      <th>50%</th>\n",
       "      <td>328.706000</td>\n",
       "      <td>21.476000</td>\n",
       "      <td>4.000000</td>\n",
       "      <td>2.000000</td>\n",
       "      <td>2.000000</td>\n",
       "      <td>3.800000</td>\n",
       "    </tr>\n",
       "    <tr>\n",
       "      <th>75%</th>\n",
       "      <td>1900.701000</td>\n",
       "      <td>75.015000</td>\n",
       "      <td>13.000000</td>\n",
       "      <td>6.000000</td>\n",
       "      <td>3.000000</td>\n",
       "      <td>10.930000</td>\n",
       "    </tr>\n",
       "    <tr>\n",
       "      <th>max</th>\n",
       "      <td>647483.000000</td>\n",
       "      <td>12183.000000</td>\n",
       "      <td>3250.000000</td>\n",
       "      <td>168.000000</td>\n",
       "      <td>8.000000</td>\n",
       "      <td>6455.000000</td>\n",
       "    </tr>\n",
       "  </tbody>\n",
       "</table>\n",
       "</div>"
      ],
      "text/plain": [
       "           assets_ty        r_d_ty  patents_count   icls_count  \\\n",
       "count    1307.000000   1307.000000    1307.000000  1307.000000   \n",
       "mean     5416.045796    199.160406      31.413925     6.923489   \n",
       "std     28013.122523    769.707103     144.992583    14.844842   \n",
       "min         0.001000      0.000000       1.000000     1.000000   \n",
       "25%        63.418000      5.840500       1.000000     1.000000   \n",
       "50%       328.706000     21.476000       4.000000     2.000000   \n",
       "75%      1900.701000     75.015000      13.000000     6.000000   \n",
       "max    647483.000000  12183.000000    3250.000000   168.000000   \n",
       "\n",
       "       industries_count   rnd/patent  \n",
       "count       1307.000000  1307.000000  \n",
       "mean           2.155318    23.809855  \n",
       "std            1.538548   195.611002  \n",
       "min            1.000000     0.000000  \n",
       "25%            1.000000     1.580000  \n",
       "50%            2.000000     3.800000  \n",
       "75%            3.000000    10.930000  \n",
       "max            8.000000  6455.000000  "
      ]
     },
     "execution_count": 6,
     "metadata": {},
     "output_type": "execute_result"
    }
   ],
   "source": [
    "owners.describe()"
   ]
  },
  {
   "cell_type": "code",
   "execution_count": 7,
   "metadata": {
    "collapsed": false
   },
   "outputs": [
    {
     "name": "stdout",
     "output_type": "stream",
     "text": [
      "['owner' 'assets_ty' 'r_d_ty' 'patents_count' 'icls_count'\n",
      " 'industries_count' 'rnd/patent']\n"
     ]
    }
   ],
   "source": [
    "print owners.columns.values"
   ]
  },
  {
   "cell_type": "code",
   "execution_count": 8,
   "metadata": {
    "collapsed": false
   },
   "outputs": [
    {
     "name": "stdout",
     "output_type": "stream",
     "text": [
      "   assets_ty  r_d_ty  patents_count  icls_count  industries_count  rnd/patent\n",
      "0     18.762   2.503              1           1                 1        2.50\n",
      "1    865.540  29.965              5           2                 1        5.99\n",
      "2    248.055  18.696              8           5                 2        2.34\n",
      "3     54.736  26.312              5           2                 2        5.26\n",
      "4    278.941  12.971              5           1                 1        2.59\n"
     ]
    }
   ],
   "source": [
    "X_columns = ['assets_ty' ,'r_d_ty' ,'patents_count' ,'icls_count','industries_count', 'rnd/patent']\n",
    "X = pd.DataFrame(owners, columns= X_columns)\n",
    "print X.head()"
   ]
  },
  {
   "cell_type": "markdown",
   "metadata": {},
   "source": [
    "# pre processing"
   ]
  },
  {
   "cell_type": "code",
   "execution_count": 9,
   "metadata": {
    "collapsed": false
   },
   "outputs": [
    {
     "name": "stdout",
     "output_type": "stream",
     "text": [
      "(1307L, 6L)\n",
      "[[-0.19274359 -0.25559421 -0.20984223 -0.39917948 -0.75120176 -0.10898166]\n",
      " [-0.16250411 -0.21990205 -0.18224405 -0.33179023 -0.75120176 -0.0911333 ]\n",
      " [-0.18455526 -0.23454829 -0.16154542 -0.12962248 -0.10098938 -0.10979992]\n",
      " ..., \n",
      " [-0.1057161  -0.24715011 -0.16844496 -0.06223323  1.19943539 -0.11516977]\n",
      " [-0.18257564 -0.20176874 -0.20984223 -0.39917948 -0.75120176  0.10284617]\n",
      " [-0.19228902 -0.25330545 -0.20984223 -0.39917948 -0.75120176 -0.09998077]]\n"
     ]
    }
   ],
   "source": [
    "from sklearn.preprocessing import StandardScaler\n",
    "scaler = StandardScaler()\n",
    "X_std_scaled = scaler.fit(X).transform(X)\n",
    "#X_scaled = scaler.fit_transform(X)\n",
    "print X_std_scaled.shape\n",
    "print X_std_scaled"
   ]
  },
  {
   "cell_type": "code",
   "execution_count": 10,
   "metadata": {
    "collapsed": false
   },
   "outputs": [
    {
     "name": "stdout",
     "output_type": "stream",
     "text": [
      "(1307L, 6L)\n",
      "[[  2.89752782e-05   2.05450218e-04   0.00000000e+00   0.00000000e+00\n",
      "    0.00000000e+00   3.87296669e-04]\n",
      " [  1.33677487e-03   2.45957482e-03   1.23114805e-03   5.98802395e-03\n",
      "    0.00000000e+00   9.27962820e-04]\n",
      " [  3.83105040e-04   1.53459739e-03   2.15450908e-03   2.39520958e-02\n",
      "    1.42857143e-01   3.62509682e-04]\n",
      " ..., \n",
      " [  3.79274823e-03   7.38734302e-04   1.84672207e-03   2.99401198e-02\n",
      "    4.28571429e-01   1.99845081e-04]\n",
      " [  4.68719643e-04   3.60477715e-03   0.00000000e+00   0.00000000e+00\n",
      "    0.00000000e+00   6.80402789e-03]\n",
      " [  4.86344816e-05   3.49995896e-04   0.00000000e+00   0.00000000e+00\n",
      "    0.00000000e+00   6.59953524e-04]]\n"
     ]
    }
   ],
   "source": [
    "from sklearn.preprocessing import MinMaxScaler\n",
    "scaler2 = MinMaxScaler()\n",
    "X_minmax_scaled = scaler2.fit(X).transform(X)\n",
    "print X_minmax_scaled.shape\n",
    "print X_minmax_scaled"
   ]
  },
  {
   "cell_type": "markdown",
   "metadata": {},
   "source": [
    "# DBSCAN"
   ]
  },
  {
   "cell_type": "code",
   "execution_count": 11,
   "metadata": {
    "collapsed": false
   },
   "outputs": [
    {
     "name": "stdout",
     "output_type": "stream",
     "text": [
      "[0 0 1 ..., 5 0 0]\n",
      "(1307L,)\n",
      "[[ -1 112]\n",
      " [  0 592]\n",
      " [  1 344]\n",
      " [  2  41]\n",
      " [  3 128]\n",
      " [  4  23]\n",
      " [  5  64]\n",
      " [  6   3]]\n"
     ]
    }
   ],
   "source": [
    "from sklearn.cluster import DBSCAN\n",
    "dbscan = DBSCAN( min_samples=3, eps=0.6)\n",
    "dbscan_clusters = dbscan.fit_predict(X_std_scaled)\n",
    "print dbscan_clusters\n",
    "print dbscan_clusters.shape\n",
    "\n",
    "unique, counts = np.unique(dbscan_clusters, return_counts=True)\n",
    "print np.asarray((unique, counts)).T"
   ]
  },
  {
   "cell_type": "code",
   "execution_count": 12,
   "metadata": {
    "collapsed": true
   },
   "outputs": [],
   "source": [
    "dbscan_array = dbscan_clusters\n",
    "import numpy as np\n",
    "dbscan_df = pd.concat([owners,pd.DataFrame(dbscan_array, dtype=np.int)], axis=1, ignore_index=True)\n",
    "dbscan_df.columns = ['owner','assets_ty','r_d_ty','patents_count','icls_count', 'industries_count','rnd/patent','assigned_clusters'] "
   ]
  },
  {
   "cell_type": "code",
   "execution_count": 13,
   "metadata": {
    "collapsed": false
   },
   "outputs": [
    {
     "name": "stdout",
     "output_type": "stream",
     "text": [
      "     samples in cluster    112               592               344               41                128               23                64                3\n",
      "     metric                d1                d2                d3                d4                d5                d6                d7                d8\n",
      "0    assets_ty             49750.0598036     655.835099662     1175.9049186      4852.88629268     1716.90684375     5550.53256522     2359.07060937     5541.43466667\n",
      "1    r_d_ty                1793.71599107     26.4964206081     58.3211569767     148.121780488     72.1743359375     124.333956522     76.836734375      189.853666667\n",
      "2    patents_count         257.544642857     2.29391891892     9.39534883721     52.6585365854     17.2109375        52.6956521739     29.96875          43.6666666667\n",
      "3    icls_count            37.6785714286     1.33277027027     4.02034883721     16.5365853659     6.0546875         21.3913043478     10.15625          20.6666666667\n",
      "4    industries_count      4.75892857143     1.0               2.0               5.0               3.0               6.0               4.0               7.0\n",
      "5    rnd/patent            151.468928571     16.3450506757     9.54563953488     3.10170731707     6.112109375       2.86391304348     3.18484375        5.25666666667\n",
      "6    assigned_clusters     -1.0              0.0               1.0               2.0               3.0               4.0               5.0               6.0\n"
     ]
    }
   ],
   "source": [
    "metric = [ \"assets_ty\", \"r_d_ty\",\"patents_count\",\"icls_count\",\"industries_count\",\"rnd/patent\",\"assigned_clusters\"]\n",
    "dbscan_df = dbscan_df.drop('owner',axis =1)\n",
    "d1 = dbscan_df[dbscan_df['assigned_clusters'] == -1].mean()\n",
    "d2 = dbscan_df[dbscan_df['assigned_clusters'] == 0].mean()\n",
    "d3 = dbscan_df[dbscan_df['assigned_clusters'] == 1].mean()\n",
    "d4 = dbscan_df[dbscan_df['assigned_clusters'] == 2].mean()\n",
    "d5 = dbscan_df[dbscan_df['assigned_clusters'] == 3].mean()\n",
    "d6 = dbscan_df[dbscan_df['assigned_clusters'] == 4].mean()\n",
    "d7 = dbscan_df[dbscan_df['assigned_clusters'] == 5].mean()\n",
    "d8 = dbscan_df[dbscan_df['assigned_clusters'] == 6].mean()\n",
    "\n",
    "fmt = '{:<5}{:<22}{:<18}{:<18}{:<18}{:<18}{:<18}{:<18}{:<18}{}'\n",
    "\n",
    "print(fmt.format('', 'samples in cluster', len(dbscan_df[dbscan_df['assigned_clusters'] == -1]),len(dbscan_df[dbscan_df['assigned_clusters'] == 0]),\n",
    "                                           len(dbscan_df[dbscan_df['assigned_clusters'] == 1]),len(dbscan_df[dbscan_df['assigned_clusters'] == 2]),\n",
    "                                           len(dbscan_df[dbscan_df['assigned_clusters'] == 3]),len(dbscan_df[dbscan_df['assigned_clusters'] == 4]),\n",
    "                                           len(dbscan_df[dbscan_df['assigned_clusters'] == 5]),len(dbscan_df[dbscan_df['assigned_clusters'] == 6])))\n",
    "\n",
    "print(fmt.format('', 'metric', 'd1','d2','d3','d4', 'd5','d6','d7','d8'))\n",
    "for i, (j,k,l,m,n,o,p,q,r) in enumerate(zip(metric,d1,d2,d3,d4,d5,d6,d7,d8)):\n",
    "    print(fmt.format(i,j,k,l,m,n,o,p,q,r))"
   ]
  },
  {
   "cell_type": "code",
   "execution_count": 14,
   "metadata": {
    "collapsed": false
   },
   "outputs": [
    {
     "name": "stdout",
     "output_type": "stream",
     "text": [
      "[0 0 1 ..., 5 0 0]\n",
      "(1307L,)\n",
      "[[ -1  40]\n",
      " [  0 599]\n",
      " [  1 351]\n",
      " [  2  51]\n",
      " [  3 138]\n",
      " [  4  37]\n",
      " [  5  71]\n",
      " [  6   8]\n",
      " [  7   4]\n",
      " [  8   5]\n",
      " [  9   3]]\n"
     ]
    }
   ],
   "source": [
    "dbscan2 = DBSCAN( min_samples=3, eps=0.1)\n",
    "clusters2 = dbscan2.fit_predict(X_minmax_scaled)\n",
    "print clusters2\n",
    "print clusters2.shape\n",
    "\n",
    "unique, counts = np.unique(clusters2, return_counts=True)\n",
    "print np.asarray((unique, counts)).T"
   ]
  },
  {
   "cell_type": "markdown",
   "metadata": {},
   "source": [
    "# KMeans"
   ]
  },
  {
   "cell_type": "code",
   "execution_count": 15,
   "metadata": {
    "collapsed": false
   },
   "outputs": [
    {
     "name": "stdout",
     "output_type": "stream",
     "text": [
      "[2 2 0 ..., 1 2 2]\n",
      "[[  0 501]\n",
      " [  1 169]\n",
      " [  2 600]\n",
      " [  3  37]]\n"
     ]
    }
   ],
   "source": [
    "from sklearn.cluster import KMeans\n",
    "kmeans = KMeans(n_clusters = 4)\n",
    "kmeans.fit(X_minmax_scaled)\n",
    "print kmeans.labels_\n",
    "unique, counts = np.unique(kmeans.labels_, return_counts=True)\n",
    "print np.asarray((unique,counts)).T"
   ]
  },
  {
   "cell_type": "code",
   "execution_count": 16,
   "metadata": {
    "collapsed": false
   },
   "outputs": [],
   "source": [
    "array = kmeans.labels_\n",
    "import numpy as np\n",
    "new_dataframe = pd.concat([owners,pd.DataFrame(array, dtype=np.int)], axis=1, ignore_index=True)"
   ]
  },
  {
   "cell_type": "code",
   "execution_count": 17,
   "metadata": {
    "collapsed": false
   },
   "outputs": [
    {
     "name": "stdout",
     "output_type": "stream",
     "text": [
      "        0        1       2  3  4  5     6  7\n",
      "0   13332   18.762   2.503  1  1  1  2.50  2\n",
      "1   13200  865.540  29.965  5  2  1  5.99  2\n",
      "2   23810  248.055  18.696  8  5  2  2.34  0\n",
      "3   62382   54.736  26.312  5  2  2  5.26  0\n",
      "4  125595  278.941  12.971  5  1  1  2.59  2\n",
      "    owner  assets_ty  r_d_ty  patents_count  icls_count  industries_count  \\\n",
      "0   13332     18.762   2.503              1           1                 1   \n",
      "1   13200    865.540  29.965              5           2                 1   \n",
      "2   23810    248.055  18.696              8           5                 2   \n",
      "3   62382     54.736  26.312              5           2                 2   \n",
      "4  125595    278.941  12.971              5           1                 1   \n",
      "\n",
      "   rnd/patent  assigned_clusters  \n",
      "0        2.50                  2  \n",
      "1        5.99                  2  \n",
      "2        2.34                  0  \n",
      "3        5.26                  0  \n",
      "4        2.59                  2  \n"
     ]
    }
   ],
   "source": [
    "print new_dataframe.head()\n",
    "\n",
    "new_dataframe.columns = ['owner','assets_ty','r_d_ty','patents_count','icls_count', 'industries_count','rnd/patent','assigned_clusters'] \n",
    "print new_dataframe.head()\n",
    "new_dataframe.to_csv('out.csv')"
   ]
  },
  {
   "cell_type": "code",
   "execution_count": 18,
   "metadata": {
    "collapsed": false
   },
   "outputs": [
    {
     "name": "stdout",
     "output_type": "stream",
     "text": [
      "           assets_ty       r_d_ty  patents_count  icls_count  \\\n",
      "count     501.000000   501.000000     501.000000  501.000000   \n",
      "mean     3419.044391   163.628503      14.988024    5.000000   \n",
      "std     12590.980122   533.074406      31.897709    4.145841   \n",
      "min         1.695000     0.074000       2.000000    2.000000   \n",
      "25%       118.850000    10.638000       4.000000    2.000000   \n",
      "50%       438.900000    27.684000       6.000000    4.000000   \n",
      "75%      1779.092000    88.800000      13.000000    6.000000   \n",
      "max    174278.000000  4947.000000     438.000000   35.000000   \n",
      "\n",
      "       industries_count   rnd/patent  assigned_clusters  \n",
      "count        501.000000   501.000000              501.0  \n",
      "mean           2.291417    18.584910                0.0  \n",
      "std            0.454869    82.825676                0.0  \n",
      "min            2.000000     0.020000                0.0  \n",
      "25%            2.000000     1.730000                0.0  \n",
      "50%            2.000000     3.610000                0.0  \n",
      "75%            3.000000     9.050000                0.0  \n",
      "max            3.000000  1210.930000                0.0  \n",
      "---------------------------------------------------------------\n",
      "          assets_ty       r_d_ty  patents_count  icls_count  industries_count  \\\n",
      "count    169.000000   169.000000     169.000000  169.000000         169.00000   \n",
      "mean    9515.549811   360.514533      64.680473   17.384615           4.83432   \n",
      "std    15313.184066   716.472026      81.606370   10.770882           0.87069   \n",
      "min       20.980000     6.000000       4.000000    4.000000           4.00000   \n",
      "25%     1053.487000    43.000000      18.000000    9.000000           4.00000   \n",
      "50%     3450.400000   100.400000      38.000000   15.000000           5.00000   \n",
      "75%     9431.900000   277.000000      75.000000   23.000000           5.00000   \n",
      "max    90474.736000  4942.234000     679.000000   51.000000           7.00000   \n",
      "\n",
      "       rnd/patent  assigned_clusters  \n",
      "count  169.000000              169.0  \n",
      "mean     7.917515                1.0  \n",
      "std     24.180566                0.0  \n",
      "min      0.190000                1.0  \n",
      "25%      1.490000                1.0  \n",
      "50%      2.640000                1.0  \n",
      "75%      4.490000                1.0  \n",
      "max    269.830000                1.0  \n",
      "---------------------------------------------------------------\n",
      "           assets_ty       r_d_ty  patents_count  icls_count  \\\n",
      "count     600.000000   600.000000     600.000000  600.000000   \n",
      "mean     1524.989407    44.420283       2.281667    1.333333   \n",
      "std     10561.243445   281.813182       2.830020    0.765854   \n",
      "min         0.001000     0.000000       1.000000    1.000000   \n",
      "25%        30.169500     2.620250       1.000000    1.000000   \n",
      "50%       109.928000     8.667500       1.000000    1.000000   \n",
      "75%       473.006250    26.072500       2.000000    1.000000   \n",
      "max    208537.000000  6455.000000      33.000000    8.000000   \n",
      "\n",
      "       industries_count   rnd/patent  assigned_clusters  \n",
      "count             600.0   600.000000              600.0  \n",
      "mean                1.0    33.603083                2.0  \n",
      "std                 0.0   278.058448                0.0  \n",
      "min                 1.0     0.000000                2.0  \n",
      "25%                 1.0     1.492500                2.0  \n",
      "50%                 1.0     5.080000                2.0  \n",
      "75%                 1.0    14.905000                2.0  \n",
      "max                 1.0  6455.000000                2.0  \n",
      "---------------------------------------------------------------\n",
      "           assets_ty       r_d_ty  patents_count  icls_count  \\\n",
      "count      37.000000     37.00000      37.000000   37.000000   \n",
      "mean    76829.974405   2452.58500     574.297297   75.837838   \n",
      "std    132996.423239   2840.97198     625.552150   35.177734   \n",
      "min      3024.140000      0.00000      82.000000   19.000000   \n",
      "25%     14818.000000    584.00000     205.000000   55.000000   \n",
      "50%     26175.000000   1027.00000     376.000000   73.000000   \n",
      "75%     74708.000000   3803.00000     629.000000   85.000000   \n",
      "max    647483.000000  12183.00000    3250.000000  168.000000   \n",
      "\n",
      "       industries_count  rnd/patent  assigned_clusters  \n",
      "count         37.000000   37.000000               37.0  \n",
      "mean           6.810811    8.338649                3.0  \n",
      "std            0.995485   15.567225                0.0  \n",
      "min            5.000000    0.000000                3.0  \n",
      "25%            6.000000    1.640000                3.0  \n",
      "50%            7.000000    2.730000                3.0  \n",
      "75%            8.000000    4.400000                3.0  \n",
      "max            8.000000   69.480000                3.0  \n"
     ]
    }
   ],
   "source": [
    "print new_dataframe[new_dataframe['assigned_clusters'] == 0].describe()\n",
    "print '---------------------------------------------------------------'\n",
    "print new_dataframe[new_dataframe['assigned_clusters'] == 1].describe()\n",
    "print '---------------------------------------------------------------'\n",
    "print new_dataframe[new_dataframe['assigned_clusters'] == 2].describe()\n",
    "print '---------------------------------------------------------------'\n",
    "print new_dataframe[new_dataframe['assigned_clusters'] == 3].describe()"
   ]
  },
  {
   "cell_type": "code",
   "execution_count": 19,
   "metadata": {
    "collapsed": false
   },
   "outputs": [
    {
     "name": "stdout",
     "output_type": "stream",
     "text": [
      "     samples in cluster       501                      169                      600                      37\n",
      "     metric                   a                        b                        c                        d\n",
      "0    assets_ty                3419.04439122            9515.54981065            1524.98940667            76829.9744054\n",
      "1    r_d_ty                   163.628502994            360.514532544            44.4202833333            2452.585\n",
      "2    patents_count            14.9880239521            64.6804733728            2.28166666667            574.297297297\n",
      "3    icls_count               5.0                      17.3846153846            1.33333333333            75.8378378378\n",
      "4    industries_count         2.29141716567            4.83431952663            1.0                      6.81081081081\n",
      "5    rnd/patent               18.5849101796            7.9175147929             33.6030833333            8.33864864865\n",
      "6    assigned_clusters        0.0                      1.0                      2.0                      3.0\n"
     ]
    }
   ],
   "source": [
    "metric = [ \"assets_ty\", \"r_d_ty\",\"patents_count\",\"icls_count\",\"industries_count\",\"rnd/patent\",\"assigned_clusters\"]\n",
    "new_dataframe = new_dataframe.drop('owner',axis =1)\n",
    "a = new_dataframe[new_dataframe['assigned_clusters'] == 0].mean()\n",
    "b = new_dataframe[new_dataframe['assigned_clusters'] == 1].mean()\n",
    "c = new_dataframe[new_dataframe['assigned_clusters'] == 2].mean()\n",
    "d = new_dataframe[new_dataframe['assigned_clusters'] == 3].mean()\n",
    "\n",
    "fmt = '{:<5}{:<25}{:<25}{:<25}{:<25}{}'\n",
    "\n",
    "print(fmt.format('', 'samples in cluster', len(new_dataframe[new_dataframe['assigned_clusters'] == 0]),\n",
    "                 len(new_dataframe[new_dataframe['assigned_clusters'] == 1]),\n",
    "                 len(new_dataframe[new_dataframe['assigned_clusters'] == 2]),\n",
    "                 len(new_dataframe[new_dataframe['assigned_clusters'] == 3])))\n",
    "\n",
    "print(fmt.format('', 'metric', 'a','b','c','d'))\n",
    "for i, (j,p,q,r,s) in enumerate(zip(metric,a,b,c,d)):\n",
    "    print(fmt.format(i,j,p,q,r,s))"
   ]
  },
  {
   "cell_type": "markdown",
   "metadata": {},
   "source": [
    "# Dendrogram"
   ]
  },
  {
   "cell_type": "code",
   "execution_count": 20,
   "metadata": {
    "collapsed": false
   },
   "outputs": [
    {
     "data": {
      "text/plain": [
       "<matplotlib.text.Text at 0xb15f240>"
      ]
     },
     "execution_count": 20,
     "metadata": {},
     "output_type": "execute_result"
    }
   ],
   "source": [
    "from scipy.cluster.hierarchy import dendrogram,ward\n",
    "linkage_array = ward(X_minmax_scaled)\n",
    "dendrogram(linkage_array)\n",
    "ax= plt.gca()\n",
    "bounds = ax.get_xbound()\n",
    "ax.plot(bounds,[7,7],'--',c='k')\n",
    "ax\n",
    "plt.xlabel(\"sample index\")"
   ]
  },
  {
   "cell_type": "code",
   "execution_count": 21,
   "metadata": {
    "collapsed": false
   },
   "outputs": [],
   "source": [
    "plt.show()"
   ]
  },
  {
   "cell_type": "markdown",
   "metadata": {},
   "source": [
    "# KMeans at 3 asset levels"
   ]
  },
  {
   "cell_type": "code",
   "execution_count": 61,
   "metadata": {
    "collapsed": false
   },
   "outputs": [
    {
     "name": "stdout",
     "output_type": "stream",
     "text": [
      "All owners: (1307, 6)\n",
      "owners with assets_ty less than 1k: (884, 6)\n",
      "owners with assets_ty between 1k and 10k : (309, 6)\n",
      "owners with assets_ty above 10k: (114, 6)\n",
      "-----------\n",
      "<class 'pandas.core.frame.DataFrame'>\n",
      "1000.953\n",
      "9955.0\n",
      "-----------\n"
     ]
    }
   ],
   "source": [
    "print(\"All owners: {}\".format( X.shape))\n",
    "\n",
    "till_1k = pd.read_csv('owners revised - till1k.csv')\n",
    "from1to10k = pd.read_csv('owners revised - 1kto10k.csv')\n",
    "above_10k = pd.read_csv('owners revised - above10k.csv')\n",
    "\n",
    "X_columns = ['assets_ty' ,'r_d_ty' ,'patents_count' ,'icls_count','industries_count', 'rnd/patent']\n",
    "X_till_1k = pd.DataFrame(till_1k, columns= X_columns)\n",
    "X_1k_10k = pd.DataFrame(from1to10k, columns= X_columns)\n",
    "X_above_10k = pd.DataFrame(above_10k, columns= X_columns)\n",
    "\n",
    "print(\"owners with assets_ty less than 1k: {}\".format( X_till_1k.shape))\n",
    "print(\"owners with assets_ty between 1k and 10k : {}\".format( X_1k_10k.shape))\n",
    "print(\"owners with assets_ty above 10k: {}\".format( X_above_10k.shape))\n",
    "print \"-----------\"\n",
    "print type(X_till_1k)\n",
    "print X_1k_10k['assets_ty'].min()\n",
    "print X_1k_10k['assets_ty'].max()\n",
    "print \"-----------\"\n",
    "#rint X_1k_10k['assets_ty']\n"
   ]
  },
  {
   "cell_type": "code",
   "execution_count": 62,
   "metadata": {
    "collapsed": false
   },
   "outputs": [
    {
     "name": "stdout",
     "output_type": "stream",
     "text": [
      "(884L, 6L)\n",
      "(309L, 6L)\n",
      "(114L, 6L)\n"
     ]
    }
   ],
   "source": [
    "from sklearn.preprocessing import MinMaxScaler\n",
    "scaler1 = MinMaxScaler()\n",
    "scaler2 = MinMaxScaler()\n",
    "scaler3 = MinMaxScaler()\n",
    "\n",
    "X_till_1k_scaled = scaler1.fit(X_till_1k).transform(X_till_1k)\n",
    "X_1k_10k_scaled = scaler2.fit(X_1k_10k).transform(X_1k_10k)\n",
    "X_above_10k_scaled = scaler3.fit(X_above_10k).transform(X_above_10k)\n",
    "\n",
    "print X_till_1k_scaled.shape\n",
    "print X_1k_10k_scaled.shape\n",
    "print X_above_10k_scaled.shape\n"
   ]
  },
  {
   "cell_type": "code",
   "execution_count": 63,
   "metadata": {
    "collapsed": false
   },
   "outputs": [
    {
     "name": "stdout",
     "output_type": "stream",
     "text": [
      "[[  0 161]\n",
      " [  1 404]\n",
      " [  2 100]\n",
      " [  3 219]]\n",
      "[[  0 124]\n",
      " [  1  51]\n",
      " [  2  94]\n",
      " [  3  40]]\n",
      "[[ 0 48]\n",
      " [ 1 54]\n",
      " [ 2  5]\n",
      " [ 3  7]]\n"
     ]
    }
   ],
   "source": [
    "from sklearn.cluster import KMeans\n",
    "kmeans_till_1k = KMeans(n_clusters = 4)\n",
    "kmeans_1k_10k = KMeans(n_clusters = 4)\n",
    "kmeans_above_10k = KMeans(n_clusters = 4)\n",
    "\n",
    "kmeans_till_1k = kmeans_till_1k.fit(X_till_1k_scaled)\n",
    "kmeans_1k_10k = kmeans_1k_10k.fit(X_1k_10k_scaled)\n",
    "kmeans_above_10k = kmeans_above_10k.fit(X_above_10k_scaled)\n",
    "\n",
    "unique1, counts1 = np.unique(kmeans_till_1k.labels_, return_counts=True)\n",
    "print np.asarray((unique1,counts1)).T\n",
    "\n",
    "unique2, counts2 = np.unique(kmeans_1k_10k.labels_, return_counts=True)\n",
    "print np.asarray((unique2,counts2)).T\n",
    "\n",
    "unique3, counts3 = np.unique(kmeans_above_10k.labels_, return_counts=True)\n",
    "print np.asarray((unique3,counts3)).T"
   ]
  },
  {
   "cell_type": "code",
   "execution_count": 64,
   "metadata": {
    "collapsed": false
   },
   "outputs": [],
   "source": [
    "array_till_1k = kmeans_till_1k.labels_\n",
    "array_1k_10k = kmeans_1k_10k.labels_\n",
    "array_above_10k = kmeans_above_10k.labels_\n",
    "\n",
    "import numpy as np\n",
    "\n",
    "df_till_1k = pd.concat([till_1k,pd.DataFrame(array_till_1k, dtype=np.int)], axis=1, ignore_index=True)\n",
    "df_1k_10k = pd.concat([from1to10k,pd.DataFrame(array_1k_10k, dtype=np.int)], axis=1, ignore_index=True)\n",
    "df_above_10k = pd.concat([above_10k,pd.DataFrame(array_above_10k, dtype=np.int)], axis=1, ignore_index=True)\n",
    "\n",
    "df_till_1k.columns = ['owner','assets_ty','r_d_ty','patents_count','icls_count','industries_count','rnd/patent','assigned_clusters'] \n",
    "df_1k_10k.columns = ['owner','assets_ty','r_d_ty','patents_count','icls_count','industries_count','rnd/patent','assigned_clusters'] \n",
    "df_above_10k.columns = ['owner','assets_ty','r_d_ty','patents_count','icls_count','industries_count','rnd/patent','assigned_clusters'] \n",
    "\n",
    "df_till_1k.to_csv('df_till_1k.csv')\n",
    "df_1k_10k.to_csv('df_1k_10k.csv')\n",
    "df_above_10k.to_csv('df_above_10k.csv')\n"
   ]
  },
  {
   "cell_type": "markdown",
   "metadata": {},
   "source": [
    "## clusters of owners with assets less than 1k"
   ]
  },
  {
   "cell_type": "code",
   "execution_count": 65,
   "metadata": {
    "collapsed": false
   },
   "outputs": [
    {
     "name": "stdout",
     "output_type": "stream",
     "text": [
      "     samples in cluster       161                      404                      100                      219\n",
      "     metric                   a1                       b1                       c1                       d1\n",
      "0    assets_ty                557.122950311            79.4909084158            498.03245                113.231977169\n",
      "1    r_d_ty                   46.4156024845            8.3965049505             46.11599                 17.624739726\n",
      "2    patents_count            4.10559006211            1.93811881188            20.81                    5.899543379\n",
      "3    icls_count               2.26086956522            1.2599009901             7.8                      3.28310502283\n",
      "4    industries_count         1.4099378882             1.0                      3.35                     2.14611872146\n",
      "5    rnd/patent               21.0400621118            6.07143564356            3.1275                   3.86707762557\n",
      "6    assigned_clusters        0.0                      1.0                      2.0                      3.0\n"
     ]
    }
   ],
   "source": [
    "metric = [ \"assets_ty\", \"r_d_ty\",\"patents_count\",\"icls_count\",\"industries_count\",\"rnd/patent\",\"assigned_clusters\"]\n",
    "df_till_1k = df_till_1k.drop('owner',axis =1)\n",
    "\n",
    "a1 = df_till_1k[df_till_1k['assigned_clusters'] == 0].mean()\n",
    "b1 = df_till_1k[df_till_1k['assigned_clusters'] == 1].mean()\n",
    "c1 = df_till_1k[df_till_1k['assigned_clusters'] == 2].mean()\n",
    "d1 = df_till_1k[df_till_1k['assigned_clusters'] == 3].mean()\n",
    "\n",
    "fmt = '{:<5}{:<25}{:<25}{:<25}{:<25}{}'\n",
    "\n",
    "print(fmt.format('', 'samples in cluster', len(df_till_1k[df_till_1k['assigned_clusters'] == 0]),\n",
    "                 len(df_till_1k[df_till_1k['assigned_clusters'] == 1]),\n",
    "                 len(df_till_1k[df_till_1k['assigned_clusters'] == 2]),\n",
    "                 len(df_till_1k[df_till_1k['assigned_clusters'] == 3])))\n",
    "\n",
    "print(fmt.format('','metric', 'a1','b1','c1','d1'))\n",
    "for i, (j,p,q,r,s) in enumerate(zip(metric,a1,b1,c1,d1)):\n",
    "    print(fmt.format(i,j,p,q,r,s))\n",
    "    \n",
    "    "
   ]
  },
  {
   "cell_type": "markdown",
   "metadata": {},
   "source": [
    "## clusters of owners with assets between 1k and 10k"
   ]
  },
  {
   "cell_type": "code",
   "execution_count": 66,
   "metadata": {
    "collapsed": false
   },
   "outputs": [
    {
     "name": "stdout",
     "output_type": "stream",
     "text": [
      "     samples in cluster       124                      51                       94                       40\n",
      "     metric                   a2                       b2                       c2                       d2\n",
      "0    assets_ty                2047.1573871             6833.33462745            2392.58351064            6738.6798\n",
      "1    r_d_ty                   103.43983871             201.546078431            120.004287234            313.4687\n",
      "2    patents_count            10.4112903226            15.3137254902            45.5319148936            164.575\n",
      "3    icls_count               3.58870967742            4.70588235294            12.2127659574            28.4\n",
      "4    industries_count         1.45967741935            2.01960784314            3.8829787234             5.625\n",
      "5    rnd/patent               31.2383064516            51.6582352941            4.38957446809            3.6685\n",
      "6    assigned_clusters        0.0                      1.0                      2.0                      3.0\n"
     ]
    }
   ],
   "source": [
    "metric = [ \"assets_ty\", \"r_d_ty\",\"patents_count\",\"icls_count\",\"industries_count\",\"rnd/patent\",\"assigned_clusters\"]\n",
    "df_1k_10k = df_1k_10k.drop('owner',axis =1)\n",
    "\n",
    "a2 = df_1k_10k[df_1k_10k['assigned_clusters'] == 0].mean()\n",
    "b2 = df_1k_10k[df_1k_10k['assigned_clusters'] == 1].mean()\n",
    "c2 = df_1k_10k[df_1k_10k['assigned_clusters'] == 2].mean()\n",
    "d2 = df_1k_10k[df_1k_10k['assigned_clusters'] == 3].mean()\n",
    "\n",
    "fmt = '{:<5}{:<25}{:<25}{:<25}{:<25}{}'\n",
    "\n",
    "print(fmt.format('', 'samples in cluster', len(df_1k_10k[df_1k_10k['assigned_clusters'] == 0]),\n",
    "                 len(df_1k_10k[df_1k_10k['assigned_clusters'] == 1]),\n",
    "                 len(df_1k_10k[df_1k_10k['assigned_clusters'] == 2]),\n",
    "                 len(df_1k_10k[df_1k_10k['assigned_clusters'] == 3])))\n",
    "\n",
    "print(fmt.format('', 'metric', 'a2','b2','c2','d2'))\n",
    "for i, (j,p,q,r,s) in enumerate(zip(metric,a2,b2,c2,d2)):\n",
    "    print(fmt.format(i,j,p,q,r,s))"
   ]
  },
  {
   "cell_type": "markdown",
   "metadata": {},
   "source": [
    "## clusters of owners with assets above 10k"
   ]
  },
  {
   "cell_type": "code",
   "execution_count": 67,
   "metadata": {
    "collapsed": false
   },
   "outputs": [
    {
     "name": "stdout",
     "output_type": "stream",
     "text": [
      "     samples in cluster       48                       54                       5                        7\n",
      "     metric                   a3                       b3                       c3                       d3\n",
      "0    assets_ty                28963.1300833            40123.9776296            180627.0                 189357.432143\n",
      "1    r_d_ty                   961.663833333            1486.07194444            3189.8                   7383.54914286\n",
      "2    patents_count            232.770833333            33.1666666667            1633.4                   310.714285714\n",
      "3    icls_count               46.5                     7.42592592593            140.4                    53.2857142857\n",
      "4    industries_count         6.16666666667            2.44444444444            7.8                      5.71428571429\n",
      "5    rnd/patent               7.65416666667            304.433148148            1.964                    33.6342857143\n",
      "6    assigned_clusters        0.0                      1.0                      2.0                      3.0\n"
     ]
    }
   ],
   "source": [
    "metric = [ \"assets_ty\", \"r_d_ty\",\"patents_count\",\"icls_count\",\"industries_count\",\"rnd/patent\",\"assigned_clusters\"]\n",
    "df_above_10k = df_above_10k.drop('owner',axis =1)\n",
    "\n",
    "a3 = df_above_10k[df_above_10k['assigned_clusters'] == 0].mean()\n",
    "b3 = df_above_10k[df_above_10k['assigned_clusters'] == 1].mean()\n",
    "c3 = df_above_10k[df_above_10k['assigned_clusters'] == 2].mean()\n",
    "d3 = df_above_10k[df_above_10k['assigned_clusters'] == 3].mean()\n",
    "\n",
    "fmt = '{:<5}{:<25}{:<25}{:<25}{:<25}{}'\n",
    "\n",
    "print(fmt.format('', 'samples in cluster', len(df_above_10k[df_above_10k['assigned_clusters'] == 0]),\n",
    "                 len(df_above_10k[df_above_10k['assigned_clusters'] == 1]),\n",
    "                 len(df_above_10k[df_above_10k['assigned_clusters'] == 2]),\n",
    "                 len(df_above_10k[df_above_10k['assigned_clusters'] == 3])))\n",
    "\n",
    "print(fmt.format('', 'metric', 'a3','b3','c3','d3'))\n",
    "for i, (j,p,q,r,s) in enumerate(zip(metric,a3,b3,c3,d3)):\n",
    "    print(fmt.format(i,j,p,q,r,s))"
   ]
  }
 ],
 "metadata": {
  "kernelspec": {
   "display_name": "Python 2",
   "language": "python",
   "name": "python2"
  },
  "language_info": {
   "codemirror_mode": {
    "name": "ipython",
    "version": 2
   },
   "file_extension": ".py",
   "mimetype": "text/x-python",
   "name": "python",
   "nbconvert_exporter": "python",
   "pygments_lexer": "ipython2",
   "version": "2.7.11"
  }
 },
 "nbformat": 4,
 "nbformat_minor": 0
}
